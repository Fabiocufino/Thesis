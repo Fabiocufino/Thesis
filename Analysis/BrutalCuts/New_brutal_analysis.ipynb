{
 "cells": [
  {
   "cell_type": "code",
   "execution_count": 46,
   "metadata": {},
   "outputs": [],
   "source": [
    "import uproot as up\n",
    "import numpy as np\n",
    "import matplotlib.pyplot as plt\n",
    "import pandas as pd\n",
    "\n",
    "plt.style.use('seaborn-v0_8-paper')\n",
    "plt.rcParams[\"patch.force_edgecolor\"] = True\n"
   ]
  },
  {
   "cell_type": "code",
   "execution_count": 47,
   "metadata": {},
   "outputs": [],
   "source": [
    "file_BKG = up.open(\"radioactivity_userfile_7days.root\")\n",
    "#file_IBD = up.open('../BrutalCuts/unoscillated_IBD_userfile.root') \n",
    "file_IBD = up.open('ibd_userfile_7days.root') \n",
    "\n",
    "\n",
    "dataset_IBD_all = file_IBD['TRec'].arrays(library = 'np')\n",
    "dataset_BKG = file_BKG['TRec'].arrays(library = 'np')\n",
    "\n",
    "dataset_IBD = {}\n",
    "for key in ['recx', 'recy', 'recz', 'm_QEn', 'm_triggerT']:\n",
    "    dataset_IBD[key] = dataset_IBD_all[key]\n",
    "\n",
    "en_fact = 0.92\n",
    "dataset_IBD[\"m_QEn\"] = dataset_IBD[\"m_QEn\"]*en_fact "
   ]
  },
  {
   "cell_type": "code",
   "execution_count": 48,
   "metadata": {},
   "outputs": [
    {
     "data": {
      "text/plain": [
       "{'recx': array([-6546.7075, -5635.7627, 13160.146 , ..., -5190.015 , 12472.224 ,\n",
       "        12667.809 ], dtype=float32),\n",
       " 'recy': array([12444.845 , 11995.087 ,  5150.4067, ...,  3430.7043, -9249.245 ,\n",
       "        -9773.4   ], dtype=float32),\n",
       " 'recz': array([-10109.446 , -10101.866 ,   7890.3755, ..., -14862.485 ,\n",
       "         -4518.004 ,  -4311.2036], dtype=float32),\n",
       " 'm_QEn': array([2.2872338, 2.1975338, 5.281242 , ..., 2.2772105, 3.309503 ,\n",
       "        2.1785235], dtype=float32),\n",
       " 'm_triggerT': array([7.60000000e+01, 2.52610000e+05, 1.20811085e+09, ...,\n",
       "        2.03446236e+12, 2.03455463e+12, 2.03455477e+12])}"
      ]
     },
     "execution_count": 48,
     "metadata": {},
     "output_type": "execute_result"
    }
   ],
   "source": [
    "dataset_IBD"
   ]
  },
  {
   "cell_type": "code",
   "execution_count": 49,
   "metadata": {},
   "outputs": [],
   "source": [
    "xs_reco = file_BKG['TRec']['recx'].array(library = 'np')\n",
    "ys_reco = file_BKG['TRec']['recy'].array(library = 'np')\n",
    "zs_reco = file_BKG['TRec']['recz'].array(library = 'np')\n",
    "es_reco_BKG = file_BKG['TRec']['m_QEn'].array(library = 'np')\n",
    "\n",
    "rs_reco = np.sqrt(xs_reco**2 + ys_reco**2 + zs_reco**2)"
   ]
  },
  {
   "attachments": {},
   "cell_type": "markdown",
   "metadata": {},
   "source": [
    "# Cuts"
   ]
  },
  {
   "cell_type": "code",
   "execution_count": 60,
   "metadata": {},
   "outputs": [],
   "source": [
    "from numba import njit, prange #prange serve per fare un ciclo for ma eseguito come in c++, molto più veloce\n",
    "\n",
    "\n",
    "@njit(parallel = True) #il parallel serve per far lavorararre tutti i core in parallelo\n",
    "def selection(x,y,z,E,t,delta_time = 1e6, delta_radius = 1500, min_energy_prompt = 0.7,max_energy_prompt = 12, min_energy_delay = 1.9, max_energy_delay = 2.5, min_energy_delay_carb = 4.4, max_energy_delay_carb = 5.5):\n",
    "    prompt_columns = np.zeros(x.shape)\n",
    "    delay_columns = np.zeros(x.shape)\n",
    "    delay_columns_carb = np.zeros(x.shape)\n",
    "\n",
    "    for i_pro in prange(x.shape[0]-1):\n",
    "        i_del = i_pro + 1\n",
    "\n",
    "\n",
    "        if t[i_del] - t[i_pro] < delta_time and (t[i_del] - t[i_pro]) > 0: \n",
    "            if np.sqrt((x[i_del] - x[i_pro])**2 + (y[i_del] - y[i_pro])**2 + (z[i_del] - z[i_pro])**2) < delta_radius: #radius cut\n",
    "                if E[i_pro]>= min_energy_prompt and E[i_pro]<= max_energy_prompt:\n",
    "                    if E[i_del]>= min_energy_delay and E[i_del]<= max_energy_delay:\n",
    "                        prompt_columns[i_pro] = 1\n",
    "                        delay_columns[i_del] = 1\n",
    "                    if E[i_del]>= min_energy_delay_carb and E[i_del]<= max_energy_delay_carb:\n",
    "                        prompt_columns[i_pro] = 1\n",
    "                        delay_columns_carb[i_del] = 1\n",
    "\n",
    "    return prompt_columns,delay_columns,delay_columns_carb\n",
    "    \n",
    "\n",
    "    \n"
   ]
  },
  {
   "cell_type": "code",
   "execution_count": 61,
   "metadata": {},
   "outputs": [],
   "source": [
    "cut = 100000\n",
    "prompt_columns, delay_columns, delay_columns_carb = selection(dataset_IBD['recx'][:cut],\n",
    "                                                              dataset_IBD['recy'][:cut],\n",
    "                                                              dataset_IBD['recz'][:cut],\n",
    "                                                              dataset_IBD[\"m_QEn\"][:cut],\n",
    "                                                              dataset_IBD[\"m_triggerT\"][:cut])"
   ]
  },
  {
   "cell_type": "code",
   "execution_count": 62,
   "metadata": {},
   "outputs": [
    {
     "name": "stdout",
     "output_type": "stream",
     "text": [
      "96240.0\n",
      "100000\n"
     ]
    }
   ],
   "source": [
    "print(prompt_columns.sum()*2)\n",
    "print(prompt_columns.shape[0])\n",
    "\n"
   ]
  },
  {
   "cell_type": "code",
   "execution_count": 58,
   "metadata": {},
   "outputs": [
    {
     "name": "stdout",
     "output_type": "stream",
     "text": [
      "Accuracy:  80.738\n"
     ]
    }
   ],
   "source": [
    "print(\"Accuracy: \", ( (prompt_columns.sum() + delay_columns.sum()+ delay_columns_carb.sum())  / prompt_columns.shape[0] ) * 100)"
   ]
  },
  {
   "attachments": {},
   "cell_type": "markdown",
   "metadata": {},
   "source": [
    "ACTUNG: Qui non fai la tabella delle features, ma fai solo una differenza tra il un evento e SOLAMENTE quello di dopo."
   ]
  },
  {
   "cell_type": "markdown",
   "metadata": {},
   "source": []
  }
 ],
 "metadata": {
  "kernelspec": {
   "display_name": "thesis",
   "language": "python",
   "name": "python3"
  },
  "language_info": {
   "codemirror_mode": {
    "name": "ipython",
    "version": 3
   },
   "file_extension": ".py",
   "mimetype": "text/x-python",
   "name": "python",
   "nbconvert_exporter": "python",
   "pygments_lexer": "ipython3",
   "version": "3.9.16"
  },
  "orig_nbformat": 4
 },
 "nbformat": 4,
 "nbformat_minor": 2
}
