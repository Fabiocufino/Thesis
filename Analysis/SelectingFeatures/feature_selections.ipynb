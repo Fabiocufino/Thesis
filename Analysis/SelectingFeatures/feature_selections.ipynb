{
 "cells": [
  {
   "cell_type": "code",
   "execution_count": 2,
   "metadata": {},
   "outputs": [],
   "source": [
    "import uproot as up\n",
    "import numpy as np\n",
    "import matplotlib.pyplot as plt\n",
    "import pandas as pd\n",
    "\n",
    "plt.style.use('seaborn-paper')\n",
    "plt.rcParams[\"patch.force_edgecolor\"] = True"
   ]
  },
  {
   "cell_type": "code",
   "execution_count": 3,
   "metadata": {},
   "outputs": [],
   "source": [
    "file_BKG = up.open(\"radioactivity_userfile_7days.root\")\n",
    "file_IBD = up.open('ibd_userfile_7days.root')\n",
    "\n",
    "dataset_IBD = file_IBD['TRec'].arrays(library = 'np')\n",
    "dataset_BKG = file_BKG['TRec'].arrays(library = 'np')"
   ]
  },
  {
   "attachments": {},
   "cell_type": "markdown",
   "metadata": {},
   "source": [
    "Dataset è un DICT di NUMPY ARRAY"
   ]
  },
  {
   "cell_type": "code",
   "execution_count": 4,
   "metadata": {},
   "outputs": [
    {
     "name": "stdout",
     "output_type": "stream",
     "text": [
      "(704,)\n",
      "(61870091,)\n",
      "61870795\n"
     ]
    }
   ],
   "source": [
    "print(dataset_IBD[\"m_QEn\"].shape)\n",
    "print(dataset_BKG[\"m_QEn\"].shape)\n",
    "\n",
    "print(dataset_BKG[\"m_QEn\"].shape[0]+dataset_IBD[\"m_QEn\"].shape[0])"
   ]
  },
  {
   "attachments": {},
   "cell_type": "markdown",
   "metadata": {},
   "source": [
    "# Here some try"
   ]
  },
  {
   "cell_type": "code",
   "execution_count": 5,
   "metadata": {},
   "outputs": [
    {
     "name": "stdout",
     "output_type": "stream",
     "text": [
      "[1]\n"
     ]
    }
   ],
   "source": [
    "print([i for i in (1,2) if i == 1])\n",
    "  "
   ]
  },
  {
   "cell_type": "code",
   "execution_count": 6,
   "metadata": {},
   "outputs": [
    {
     "data": {
      "text/plain": [
       "array([[1, 4, 5, 6]])"
      ]
     },
     "execution_count": 6,
     "metadata": {},
     "output_type": "execute_result"
    }
   ],
   "source": [
    "a = np.array([[1, 4]])\n",
    "b = np.array([[5, 6]])\n",
    "np.concatenate((a, b), axis=1)"
   ]
  },
  {
   "cell_type": "code",
   "execution_count": 7,
   "metadata": {},
   "outputs": [
    {
     "data": {
      "text/plain": [
       "{'E': array([3, 4, 5, 5, 2, 2]),\n",
       " 't': array([1, 2, 3, 4, 3, 1]),\n",
       " 'provenienza': array([1, 1, 1, 0, 0, 0])}"
      ]
     },
     "execution_count": 7,
     "metadata": {},
     "output_type": "execute_result"
    }
   ],
   "source": [
    "def combine_dict(d1, d2):\n",
    "    combined = {}\n",
    "    for k in set(d1.keys()) | set(d2.keys()):\n",
    "        if k in d1 and k in d2 and isinstance(d1[k], np.ndarray) and isinstance(d2[k], np.ndarray):\n",
    "            combined[k] = np.concatenate([d1[k], d2[k]])\n",
    "        elif k in d1:\n",
    "            combined[k] = d1[k]\n",
    "        else:\n",
    "            combined[k] = d2[k]\n",
    "    \n",
    "    provenienza = np.concatenate([np.full_like(d1.get(k, []), 1), np.full_like(d2.get(k, []), 0)])\n",
    "    return {**combined, 'provenienza': provenienza}\n",
    "\n",
    "#Prova dict \n",
    "dict1 = {'t': np.array([1,2,3]), \n",
    "         'E': np.array([3,4,5])}\n",
    "\n",
    "dict2 = {'t': np.array([4,3,1]), \n",
    "         'E': np.array([5,2,2])}\n",
    "\n",
    "combine_dict(dict1,dict2)"
   ]
  },
  {
   "cell_type": "code",
   "execution_count": 8,
   "metadata": {},
   "outputs": [
    {
     "data": {
      "text/plain": [
       "(61870795,)"
      ]
     },
     "execution_count": 8,
     "metadata": {},
     "output_type": "execute_result"
    }
   ],
   "source": [
    "combine_dict(dataset_IBD,dataset_BKG)[\"m_QEn\"].shape"
   ]
  },
  {
   "cell_type": "code",
   "execution_count": 9,
   "metadata": {},
   "outputs": [],
   "source": [
    "all_data = combine_dict(dataset_IBD,dataset_BKG)"
   ]
  },
  {
   "cell_type": "code",
   "execution_count": 10,
   "metadata": {},
   "outputs": [
    {
     "data": {
      "text/plain": [
       "<matplotlib.collections.PathCollection at 0x7f97b0e08ca0>"
      ]
     },
     "execution_count": 10,
     "metadata": {},
     "output_type": "execute_result"
    },
    {
     "data": {
      "image/png": "[encoded data removed]",
      "text/plain": [
       "<Figure size 1200x400 with 1 Axes>"
      ]
     },
     "metadata": {},
     "output_type": "display_data"
    }
   ],
   "source": [
    "fig, ax = plt.subplots(figsize= (12,4))\n",
    "ax.scatter(np.arange(100), all_data['m_triggerT'][100:200])"
   ]
  },
  {
   "attachments": {},
   "cell_type": "markdown",
   "metadata": {},
   "source": [
    "### Now I'll sort the data in temporal order"
   ]
  },
  {
   "cell_type": "code",
   "execution_count": 11,
   "metadata": {},
   "outputs": [],
   "source": [
    "dicta = {'a': np.array([4.3, 2.2, 12.2, 3.1]), 'b': np.array([9, 6, 7, 8]), 'c': np.array([5, 10, 12, 11])}\n"
   ]
  },
  {
   "attachments": {},
   "cell_type": "markdown",
   "metadata": {},
   "source": [
    "Uso la funzione sort di Numpy"
   ]
  },
  {
   "cell_type": "code",
   "execution_count": 12,
   "metadata": {},
   "outputs": [
    {
     "data": {
      "text/plain": [
       "array([ 2.2,  3.1,  4.3, 12.2])"
      ]
     },
     "execution_count": 12,
     "metadata": {},
     "output_type": "execute_result"
    }
   ],
   "source": [
    "sorted_a = np.sort(dicta['a'])\n",
    "sorted_a\n"
   ]
  },
  {
   "attachments": {},
   "cell_type": "markdown",
   "metadata": {},
   "source": [
    "Usa la funzione argsort di numpy per ottenere gli indici degli elementi ordinati nell'array originale:"
   ]
  },
  {
   "cell_type": "code",
   "execution_count": 13,
   "metadata": {},
   "outputs": [
    {
     "data": {
      "text/plain": [
       "array([1, 3, 0, 2])"
      ]
     },
     "execution_count": 13,
     "metadata": {},
     "output_type": "execute_result"
    }
   ],
   "source": [
    "idx = dicta['a'].argsort()\n",
    "idx\n"
   ]
  },
  {
   "cell_type": "code",
   "execution_count": 14,
   "metadata": {},
   "outputs": [],
   "source": [
    "for key in dicta.keys():\n",
    "    dicta[key] = dicta[key][idx]\n"
   ]
  },
  {
   "cell_type": "code",
   "execution_count": 15,
   "metadata": {},
   "outputs": [
    {
     "name": "stdout",
     "output_type": "stream",
     "text": [
      "{'a': array([ 2.2,  3.1,  4.3, 12.2]), 'b': array([6, 8, 9, 7]), 'c': array([10, 11,  5, 12])}\n"
     ]
    }
   ],
   "source": [
    "print(dicta)"
   ]
  },
  {
   "attachments": {},
   "cell_type": "markdown",
   "metadata": {},
   "source": [
    "# Now for the dataset"
   ]
  },
  {
   "cell_type": "code",
   "execution_count": 16,
   "metadata": {},
   "outputs": [
    {
     "data": {
      "text/plain": [
       "array([     704,      705,      706, ..., 61870792, 61870793, 61870794])"
      ]
     },
     "execution_count": 16,
     "metadata": {},
     "output_type": "execute_result"
    }
   ],
   "source": [
    "ord_idx = all_data[\"m_triggerT\"].argsort()\n",
    "ord_idx"
   ]
  },
  {
   "cell_type": "code",
   "execution_count": 17,
   "metadata": {},
   "outputs": [],
   "source": [
    "for key in all_data.keys():\n",
    "    all_data[key] = all_data[key][ord_idx]"
   ]
  },
  {
   "cell_type": "code",
   "execution_count": 18,
   "metadata": {},
   "outputs": [
    {
     "name": "stdout",
     "output_type": "stream",
     "text": [
      "[1.71921000e+06 1.51135350e+07 1.71738090e+07 ... 6.04799982e+14\n",
      " 6.04799998e+14 6.04799999e+14]\n"
     ]
    }
   ],
   "source": [
    "print(all_data[\"m_triggerT\"])"
   ]
  },
  {
   "cell_type": "code",
   "execution_count": 30,
   "metadata": {},
   "outputs": [
    {
     "data": {
      "text/plain": [
       "<matplotlib.collections.PathCollection at 0x7f9757c5d8b0>"
      ]
     },
     "execution_count": 30,
     "metadata": {},
     "output_type": "execute_result"
    },
    {
     "data": {
      "image/png": "[encoded data removed]",
      "text/plain": [
       "<Figure size 640x440 with 1 Axes>"
      ]
     },
     "metadata": {},
     "output_type": "display_data"
    }
   ],
   "source": [
    "plt.scatter(all_data[\"m_triggerT\"][:1000000], all_data[\"provenienza\"][:1000000])"
   ]
  },
  {
   "cell_type": "code",
   "execution_count": null,
   "metadata": {},
   "outputs": [],
   "source": []
  }
 ],
 "metadata": {
  "kernelspec": {
   "display_name": "base",
   "language": "python",
   "name": "python3"
  },
  "language_info": {
   "codemirror_mode": {
    "name": "ipython",
    "version": 3
   },
   "file_extension": ".py",
   "mimetype": "text/x-python",
   "name": "python",
   "nbconvert_exporter": "python",
   "pygments_lexer": "ipython3",
   "version": "3.9.13"
  },
  "orig_nbformat": 4
 },
 "nbformat": 4,
 "nbformat_minor": 2
}
