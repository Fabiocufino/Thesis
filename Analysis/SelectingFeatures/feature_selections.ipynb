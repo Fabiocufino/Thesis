{
 "cells": [
  {
   "cell_type": "code",
   "execution_count": 3,
   "metadata": {},
   "outputs": [],
   "source": [
    "import uproot as up\n",
    "import numpy as np\n",
    "import matplotlib.pyplot as plt\n",
    "import pandas as pd\n",
    "\n",
    "plt.style.use('seaborn-paper')\n",
    "plt.rcParams[\"patch.force_edgecolor\"] = True"
   ]
  },
  {
   "cell_type": "code",
   "execution_count": 4,
   "metadata": {},
   "outputs": [],
   "source": [
    "file_BKG = up.open(\"radioactivity_userfile_7days.root\")\n",
    "file_IBD = up.open('ibd_userfile_7days.root')\n",
    "\n",
    "dataset_IBD = file_IBD['TRec'].arrays(library = 'np')\n",
    "dataset_BKG = file_BKG['TRec'].arrays(library = 'np')"
   ]
  },
  {
   "attachments": {},
   "cell_type": "markdown",
   "metadata": {},
   "source": [
    "Dataset è un DICT di NUMPY ARRAY"
   ]
  },
  {
   "cell_type": "code",
   "execution_count": 5,
   "metadata": {},
   "outputs": [
    {
     "name": "stdout",
     "output_type": "stream",
     "text": [
      "(704,)\n",
      "(61870091,)\n",
      "61870795\n"
     ]
    }
   ],
   "source": [
    "print(dataset_IBD[\"m_QEn\"].shape)\n",
    "print(dataset_BKG[\"m_QEn\"].shape)\n",
    "\n",
    "print(dataset_BKG[\"m_QEn\"].shape[0]+dataset_IBD[\"m_QEn\"].shape[0])"
   ]
  },
  {
   "attachments": {},
   "cell_type": "markdown",
   "metadata": {},
   "source": [
    "# Here some try"
   ]
  },
  {
   "cell_type": "code",
   "execution_count": 6,
   "metadata": {},
   "outputs": [
    {
     "name": "stdout",
     "output_type": "stream",
     "text": [
      "[1]\n"
     ]
    }
   ],
   "source": [
    "print([i for i in (1,2) if i == 1])\n",
    "  "
   ]
  },
  {
   "cell_type": "code",
   "execution_count": 7,
   "metadata": {},
   "outputs": [
    {
     "data": {
      "text/plain": [
       "array([[1, 4, 5, 6]])"
      ]
     },
     "execution_count": 7,
     "metadata": {},
     "output_type": "execute_result"
    }
   ],
   "source": [
    "a = np.array([[1, 4]])\n",
    "b = np.array([[5, 6]])\n",
    "np.concatenate((a, b), axis=1)"
   ]
  },
  {
   "cell_type": "code",
   "execution_count": 8,
   "metadata": {},
   "outputs": [
    {
     "data": {
      "text/plain": [
       "{'t': array([1, 2, 3, 4, 3, 1]),\n",
       " 'E': array([3, 4, 5, 5, 2, 2]),\n",
       " 'provenienza': array([1, 1, 1, 0, 0, 0])}"
      ]
     },
     "execution_count": 8,
     "metadata": {},
     "output_type": "execute_result"
    }
   ],
   "source": [
    "def combine_dict(d1, d2):\n",
    "    combined = {}\n",
    "    for k in set(d1.keys()) | set(d2.keys()):\n",
    "        if k in d1 and k in d2 and isinstance(d1[k], np.ndarray) and isinstance(d2[k], np.ndarray):\n",
    "            combined[k] = np.concatenate([d1[k], d2[k]])\n",
    "        elif k in d1:\n",
    "            combined[k] = d1[k]\n",
    "        else:\n",
    "            combined[k] = d2[k]\n",
    "    \n",
    "    provenienza = np.concatenate([np.full_like(d1.get(k, []), 1), np.full_like(d2.get(k, []), 0)])\n",
    "    return {**combined, 'provenienza': provenienza}\n",
    "\n",
    "#Prova dict \n",
    "dict1 = {'t': np.array([1,2,3]), \n",
    "         'E': np.array([3,4,5])}\n",
    "\n",
    "dict2 = {'t': np.array([4,3,1]), \n",
    "         'E': np.array([5,2,2])}\n",
    "\n",
    "combine_dict(dict1,dict2)"
   ]
  },
  {
   "cell_type": "code",
   "execution_count": 21,
   "metadata": {},
   "outputs": [
    {
     "name": "stdout",
     "output_type": "stream",
     "text": [
      "{'dict1': {'t': array([1, 2, 3]), 'E': array([3, 4, 5])}, 'dict2': {'t': array([4, 3, 1]), 'E': array([5, 2, 2])}}\n"
     ]
    }
   ],
   "source": [
    "dict3 = {\n",
    "    'dict1': dict1,\n",
    "    'dict2': dict2\n",
    "}\n",
    "print(dict3) #Non va bene"
   ]
  },
  {
   "cell_type": "code",
   "execution_count": 9,
   "metadata": {},
   "outputs": [
    {
     "data": {
      "text/plain": [
       "(61870795,)"
      ]
     },
     "execution_count": 9,
     "metadata": {},
     "output_type": "execute_result"
    }
   ],
   "source": [
    "combine_dict(dataset_IBD,dataset_BKG)[\"m_QEn\"].shape"
   ]
  },
  {
   "cell_type": "code",
   "execution_count": 10,
   "metadata": {},
   "outputs": [],
   "source": [
    "all_data = combine_dict(dataset_IBD,dataset_BKG)"
   ]
  },
  {
   "cell_type": "code",
   "execution_count": 11,
   "metadata": {},
   "outputs": [
    {
     "data": {
      "text/plain": [
       "<matplotlib.collections.PathCollection at 0x7f30d3efecd0>"
      ]
     },
     "execution_count": 11,
     "metadata": {},
     "output_type": "execute_result"
    },
    {
     "data": {
      "image/png": "[encoded data removed]",
      "text/plain": [
       "<Figure size 1200x400 with 1 Axes>"
      ]
     },
     "metadata": {},
     "output_type": "display_data"
    }
   ],
   "source": [
    "fig, ax = plt.subplots(figsize= (12,4))\n",
    "ax.scatter(np.arange(100), all_data['m_triggerT'][100:200])"
   ]
  },
  {
   "attachments": {},
   "cell_type": "markdown",
   "metadata": {},
   "source": [
    "### Now I'll sort the data in temporal order"
   ]
  },
  {
   "cell_type": "code",
   "execution_count": 17,
   "metadata": {},
   "outputs": [
    {
     "name": "stdout",
     "output_type": "stream",
     "text": [
      "{'banana': {'color': 'yellow', 'price': 0.25}, 'orange': {'color': 'orange', 'price': 0.4}, 'apple': {'color': 'red', 'price': 0.5}}\n"
     ]
    }
   ],
   "source": [
    "# Define a dictionary with some data\n",
    "data = {\n",
    "    'apple': {'color': 'red', 'price': 0.5},\n",
    "    'banana': {'color': 'yellow', 'price': 0.25},\n",
    "    'orange': {'color': 'orange', 'price': 0.4}\n",
    "}\n",
    "\n",
    "# Sort the dictionary by price\n",
    "data = dict(sorted(data.items(), key=lambda x: x[1]['price']))\n",
    "# Print the sorted dictionary\n",
    "print(data)"
   ]
  },
  {
   "cell_type": "code",
   "execution_count": 19,
   "metadata": {},
   "outputs": [
    {
     "name": "stdout",
     "output_type": "stream",
     "text": [
      "{'m_QEn': array([2.4861238 , 2.3886237 , 5.7404804 , ..., 0.15170474, 0.8863203 ,\n",
      "       1.399674  ], dtype=float32), 'recx': array([-6546.7075, -5635.7627, 13160.146 , ..., 10355.489 ,  4516.547 ,\n",
      "        -304.768 ], dtype=float32), 'recy': array([ 12444.845 ,  11995.087 ,   5150.4067, ...,   6396.1426,\n",
      "       -16283.133 ,  16600.729 ], dtype=float32), 'm_triggerT': array([7.37522900e+11, 7.37523153e+11, 1.05118890e+12, ...,\n",
      "       6.04799982e+14, 6.04799998e+14, 6.04799999e+14]), 'recz': array([-10109.446 , -10101.866 ,   7890.3755, ...,   8448.533 ,\n",
      "        -4145.55  ,   5200.7827], dtype=float32), 'provenienza': array([1., 1., 1., ..., 0., 0., 0.], dtype=float32)}\n"
     ]
    }
   ],
   "source": [
    "\n",
    "print(all_data)"
   ]
  },
  {
   "cell_type": "code",
   "execution_count": 22,
   "metadata": {},
   "outputs": [
    {
     "ename": "TypeError",
     "evalue": "tuple indices must be integers or slices, not str",
     "output_type": "error",
     "traceback": [
      "\u001b[0;31m---------------------------------------------------------------------------\u001b[0m",
      "\u001b[0;31mTypeError\u001b[0m                                 Traceback (most recent call last)",
      "\u001b[0;32m/tmp/ipykernel_11577/2690657835.py\u001b[0m in \u001b[0;36m<module>\u001b[0;34m\u001b[0m\n\u001b[0;32m----> 1\u001b[0;31m \u001b[0mall_data\u001b[0m \u001b[0;34m=\u001b[0m \u001b[0mdict\u001b[0m\u001b[0;34m(\u001b[0m\u001b[0msorted\u001b[0m\u001b[0;34m(\u001b[0m\u001b[0mall_data\u001b[0m\u001b[0;34m.\u001b[0m\u001b[0mitems\u001b[0m\u001b[0;34m(\u001b[0m\u001b[0;34m)\u001b[0m\u001b[0;34m,\u001b[0m \u001b[0mkey\u001b[0m\u001b[0;34m=\u001b[0m\u001b[0;32mlambda\u001b[0m \u001b[0mx\u001b[0m\u001b[0;34m:\u001b[0m \u001b[0mx\u001b[0m\u001b[0;34m[\u001b[0m\u001b[0;34m'm_triggerT'\u001b[0m\u001b[0;34m]\u001b[0m\u001b[0;34m)\u001b[0m\u001b[0;34m)\u001b[0m\u001b[0;34m\u001b[0m\u001b[0;34m\u001b[0m\u001b[0m\n\u001b[0m",
      "\u001b[0;32m/tmp/ipykernel_11577/2690657835.py\u001b[0m in \u001b[0;36m<lambda>\u001b[0;34m(x)\u001b[0m\n\u001b[0;32m----> 1\u001b[0;31m \u001b[0mall_data\u001b[0m \u001b[0;34m=\u001b[0m \u001b[0mdict\u001b[0m\u001b[0;34m(\u001b[0m\u001b[0msorted\u001b[0m\u001b[0;34m(\u001b[0m\u001b[0mall_data\u001b[0m\u001b[0;34m.\u001b[0m\u001b[0mitems\u001b[0m\u001b[0;34m(\u001b[0m\u001b[0;34m)\u001b[0m\u001b[0;34m,\u001b[0m \u001b[0mkey\u001b[0m\u001b[0;34m=\u001b[0m\u001b[0;32mlambda\u001b[0m \u001b[0mx\u001b[0m\u001b[0;34m:\u001b[0m \u001b[0mx\u001b[0m\u001b[0;34m[\u001b[0m\u001b[0;34m'm_triggerT'\u001b[0m\u001b[0;34m]\u001b[0m\u001b[0;34m)\u001b[0m\u001b[0;34m)\u001b[0m\u001b[0;34m\u001b[0m\u001b[0;34m\u001b[0m\u001b[0m\n\u001b[0m",
      "\u001b[0;31mTypeError\u001b[0m: tuple indices must be integers or slices, not str"
     ]
    }
   ],
   "source": [
    "all_data = dict(sorted(all_data.items(), key=lambda x: x['m_triggerT']))"
   ]
  },
  {
   "cell_type": "code",
   "execution_count": null,
   "metadata": {},
   "outputs": [],
   "source": []
  }
 ],
 "metadata": {
  "kernelspec": {
   "display_name": "base",
   "language": "python",
   "name": "python3"
  },
  "language_info": {
   "codemirror_mode": {
    "name": "ipython",
    "version": 3
   },
   "file_extension": ".py",
   "mimetype": "text/x-python",
   "name": "python",
   "nbconvert_exporter": "python",
   "pygments_lexer": "ipython3",
   "version": "3.9.13"
  },
  "orig_nbformat": 4
 },
 "nbformat": 4,
 "nbformat_minor": 2
}
