{
 "cells": [
  {
   "cell_type": "code",
   "execution_count": 26,
   "metadata": {},
   "outputs": [],
   "source": [
    "import uproot as up\n",
    "import numpy as np\n",
    "import matplotlib.pyplot as plt\n",
    "import pandas as pd\n",
    "\n",
    "#plt.style.use('seaborn-paper')\n",
    "plt.rcParams[\"patch.force_edgecolor\"] = True"
   ]
  },
  {
   "cell_type": "code",
   "execution_count": 27,
   "metadata": {},
   "outputs": [],
   "source": [
    "file_BKG = up.open(\"../BrutalCuts/radioactivity_userfile_1days.root\")\n",
    "file_IBD = up.open('ibd_userfile_7days.root')\n",
    "\n",
    "dataset_IBD = file_IBD['TRec'].arrays(library = 'np')\n",
    "dataset_BKG = file_BKG['TRec'].arrays(library = 'np')"
   ]
  },
  {
   "cell_type": "markdown",
   "metadata": {},
   "source": [
    "Dataset è un DICT di NUMPY ARRAY"
   ]
  },
  {
   "cell_type": "code",
   "execution_count": 28,
   "metadata": {},
   "outputs": [],
   "source": [
    "print(dataset_IBD[\"m_QEn\"].shape)\n",
    "print(dataset_BKG[\"m_QEn\"].shape)\n",
    "\n",
    "print(dataset_BKG[\"m_QEn\"].shape[0]+dataset_IBD[\"m_QEn\"].shape[0])"
   ]
  },
  {
   "cell_type": "markdown",
   "metadata": {},
   "source": [
    "# Here some try"
   ]
  },
  {
   "cell_type": "code",
   "execution_count": 29,
   "metadata": {},
   "outputs": [],
   "source": [
    "print([i for i in (1,2) if i == 1])\n",
    "  "
   ]
  },
  {
   "cell_type": "code",
   "execution_count": 30,
   "metadata": {},
   "outputs": [],
   "source": [
    "a = np.array([[1, 4]])\n",
    "b = np.array([[5, 6]])\n",
    "np.concatenate((a, b), axis=1)"
   ]
  },
  {
   "cell_type": "code",
   "execution_count": 31,
   "metadata": {},
   "outputs": [],
   "source": [
    "def combine_dict(d1, d2):\n",
    "    combined = {}\n",
    "    for k in set(d1.keys()) | set(d2.keys()):\n",
    "        if k in d1 and k in d2 and isinstance(d1[k], np.ndarray) and isinstance(d2[k], np.ndarray):\n",
    "            combined[k] = np.concatenate([d1[k], d2[k]])\n",
    "        elif k in d1:\n",
    "            combined[k] = d1[k]\n",
    "        else:\n",
    "            combined[k] = d2[k]\n",
    "    \n",
    "    provenienza = np.concatenate([np.full_like(d1.get(k, []), 1), np.full_like(d2.get(k, []), 0)])\n",
    "    return {**combined, 'provenienza': provenienza}\n",
    "\n",
    "#Prova dict \n",
    "dict1 = {'t': np.array([1,2,3]), \n",
    "         'E': np.array([3,4,5])}\n",
    "\n",
    "dict2 = {'t': np.array([4,3,1]), \n",
    "         'E': np.array([5,2,2])}\n",
    "\n",
    "combine_dict(dict1,dict2)"
   ]
  },
  {
   "cell_type": "code",
   "execution_count": 32,
   "metadata": {},
   "outputs": [],
   "source": [
    "combine_dict(dataset_IBD,dataset_BKG)[\"m_QEn\"].shape"
   ]
  },
  {
   "cell_type": "code",
   "execution_count": 33,
   "metadata": {},
   "outputs": [],
   "source": [
    "all_data = combine_dict(dataset_IBD,dataset_BKG)"
   ]
  },
  {
   "cell_type": "markdown",
   "metadata": {},
   "source": [
    "-> Dunque se viene dal dataset IBD si ha che l'evento avrà una Label di 1"
   ]
  },
  {
   "cell_type": "code",
   "execution_count": 34,
   "metadata": {},
   "outputs": [],
   "source": [
    "fig, ax = plt.subplots(figsize= (12,4))\n",
    "ax.scatter(np.arange(100), all_data['m_triggerT'][100:200])"
   ]
  },
  {
   "cell_type": "markdown",
   "metadata": {},
   "source": [
    "### Now I'll sort the data in temporal order"
   ]
  },
  {
   "cell_type": "code",
   "execution_count": 35,
   "metadata": {},
   "outputs": [],
   "source": [
    "dicta = {'a': np.array([4.3, 2.2, 12.2, 3.1]), 'b': np.array([9, 6, 7, 8]), 'c': np.array([5, 10, 12, 11])}\n"
   ]
  },
  {
   "cell_type": "markdown",
   "metadata": {},
   "source": [
    "Uso la funzione sort di Numpy"
   ]
  },
  {
   "cell_type": "code",
   "execution_count": 14,
   "metadata": {},
   "outputs": [],
   "source": [
    "sorted_a = np.sort(dicta['a'])\n",
    "sorted_a\n"
   ]
  },
  {
   "cell_type": "markdown",
   "metadata": {},
   "source": [
    "Usa la funzione argsort di numpy per ottenere gli indici degli elementi ordinati nell'array originale:"
   ]
  },
  {
   "cell_type": "code",
   "execution_count": 15,
   "metadata": {},
   "outputs": [],
   "source": [
    "idx = dicta['a'].argsort()\n",
    "idx\n"
   ]
  },
  {
   "cell_type": "code",
   "execution_count": 16,
   "metadata": {},
   "outputs": [],
   "source": [
    "for key in dicta.keys():\n",
    "    dicta[key] = dicta[key][idx]\n"
   ]
  },
  {
   "cell_type": "code",
   "execution_count": 17,
   "metadata": {},
   "outputs": [],
   "source": [
    "print(dicta)"
   ]
  },
  {
   "cell_type": "markdown",
   "metadata": {},
   "source": [
    "# Now for the dataset"
   ]
  },
  {
   "cell_type": "code",
   "execution_count": 18,
   "metadata": {},
   "outputs": [],
   "source": [
    "ord_idx = all_data[\"m_triggerT\"].argsort()\n",
    "ord_idx"
   ]
  },
  {
   "cell_type": "code",
   "execution_count": 19,
   "metadata": {},
   "outputs": [],
   "source": [
    "for key in all_data.keys():\n",
    "    all_data[key] = all_data[key][ord_idx]"
   ]
  },
  {
   "cell_type": "code",
   "execution_count": 20,
   "metadata": {},
   "outputs": [],
   "source": [
    "print(all_data[\"m_triggerT\"])"
   ]
  },
  {
   "cell_type": "code",
   "execution_count": 21,
   "metadata": {},
   "outputs": [],
   "source": [
    "plt.scatter(all_data[\"m_triggerT\"][:1000000], all_data[\"provenienza\"][:1000000])"
   ]
  },
  {
   "cell_type": "markdown",
   "metadata": {},
   "source": [
    "# Creatrion of the $\\Delta r$, $\\Delta t$ and label them IBD or Decay"
   ]
  },
  {
   "cell_type": "code",
   "execution_count": 22,
   "metadata": {},
   "outputs": [],
   "source": [
    "from numba import njit, prange"
   ]
  },
  {
   "cell_type": "code",
   "execution_count": 23,
   "metadata": {},
   "outputs": [],
   "source": [
    "\n",
    "@njit(parallel = True)\n",
    "def create_features(x,y,z,E,t,proven, expon_time_cut = 5 * 220e3):\n",
    "    N = np.math.factorial(x.shape)/ np.math.factorial(2) * (np.math.factorial(x.shape) - np.math.factorial(2))\n",
    "    delta_time = np.zeros(N)\n",
    "    delta_radius = np.zeros(N)\n",
    "    E_pro = np.zeros(N)\n",
    "    E_del = np.zeros(N)\n",
    "    Label = np.zeros(N)\n",
    "\n",
    "    for i in prange(x.shape[0] - 1):\n",
    "        for j in prange(i + 1 , x.shape[0] - 1): # Non devo considerare le coppie j antecedenti perchè sono state già contate da i successivi\n",
    "            print(i,j)\n",
    "            if (t[j] - t[i]) < expon_time_cut: #j è l'indice del delay   \n",
    "                delta_time[i] = t[j] - t[i]\n",
    "                delta_radius[i] = np.sqrt((x[i] - x[j])**2 + (y[i] - y[j])**2 + (z[i] - z[j])**2)\n",
    "                E_pro[i] = E[i]\n",
    "                E_del[i] = E[j]\n",
    "\n",
    "                if proven[i] == 1 and proven[j] == 1:\n",
    "                    Label[i] = 1\n",
    "    return delta_time, delta_radius, E_pro, E_del, Label           \n",
    "                    \n",
    "                    \n",
    "\n",
    "\n"
   ]
  },
  {
   "cell_type": "code",
   "execution_count": 24,
   "metadata": {},
   "outputs": [],
   "source": [
    "x = np.array([1,2,3,4,5,6,7,8])\n",
    "                    \n",
    "for i in prange(x.shape[0] - 1):\n",
    "    for j in prange(i + 1 , x.shape[0] - 1):\n",
    "        if j>2:\n",
    "            print(i,j)\n",
    "       "
   ]
  },
  {
   "cell_type": "code",
   "execution_count": 25,
   "metadata": {},
   "outputs": [],
   "source": [
    "features = {\"delta_time\": np.array([]),\n",
    "            \"delta_radius\": np.array([]),\n",
    "            \"E_pro\": np.array([]),\n",
    "            \"E_del\": np.array([]), \n",
    "            \"Label\": np.array([])}\n",
    "\n",
    "\n",
    "features[\"delta_time\"],features[\"delta_radius\"],features[\"E_pro\"],features[\"E_del\"],features[\"Label\"] = create_features(all_data[\"recx\"]\n",
    "                                                                                                                        ,all_data[\"recy\"]\n",
    "                                                                                                                        ,all_data[\"recz\"]\n",
    "                                                                                                                        ,all_data[\"m_QEn\"]\n",
    "                                                                                                                        ,all_data[\"m_triggerT\"]\n",
    "                                                                                                                        ,all_data[\"provenienza\"])"
   ]
  },
  {
   "cell_type": "code",
   "execution_count": null,
   "metadata": {},
   "outputs": [],
   "source": [
    "count = 0\n",
    "for i in features[\"Label\"]:\n",
    "    if i == 1:\n",
    "        count = count + 1\n",
    "\n",
    "print(count)"
   ]
  },
  {
   "cell_type": "markdown",
   "metadata": {},
   "source": [
    "# Adattamento all'algoritmo di cuts fatto su eventi IBD\n",
    "\n"
   ]
  },
  {
   "cell_type": "code",
   "execution_count": null,
   "metadata": {},
   "outputs": [],
   "source": [
    "\n",
    "@njit(parallel = True)\n",
    "def create_features(x,y,z,E,t,proven, expon_time_cut = 5 * 220e3, delta_time = 1e6, delta_radius = 1500, min_energy_prompt = 0.7,max_energy_prompt = 12, min_energy_delay = 1.9, max_energy_delay = 2.5, min_energy_delay_carb = 4.4, max_energy_delay_carb = 5.5):\n",
    "    \n",
    "    delta_time = np.zeros(x.shape)\n",
    "    delta_radius = np.zeros(x.shape)\n",
    "    E_pro = np.zeros(x.shape)\n",
    "    E_del = np.zeros(x.shape)\n",
    "    Label = np.zeros(x.shape)\n",
    "\n",
    "    for i in prange(x.shape[0] -1):\n",
    "        for j in prange(i + 1 , x.shape[0] - 1): # Non devo considerare le coppie j antecedenti perchè sono state già contate da i successivi\n",
    "            if (t[j] - t[i]) < expon_time_cut: \n",
    "                \n",
    "                delta_time[i] = t[j] - t[i]\n",
    "                delta_radius[i] = np.sqrt((x[i] - x[j])**2 + (y[i] - y[j])**2 + (z[i] - z[j])**2)\n",
    "                E_pro[i] = E[i]\n",
    "                E_del[i] = E[j]\n",
    "                \n",
    "                if proven[i] == 1 and proven[j] == 1:\n",
    "                    if (t[j] - t[i]) < delta_time: #time cut\n",
    "                        if np.sqrt((x[i] - x[j])**2 + (y[i] - y[j])**2 + (z[i] - z[j])**2) < delta_radius: #radius cut                                                   \n",
    "                            if E[i]>= min_energy_prompt and E[i]<= max_energy_prompt:\n",
    "                                if (E[j]>= min_energy_delay and E[j]<= max_energy_delay) or (E[j]>= min_energy_delay_carb and E[j]<= max_energy_delay_carb): \n",
    "                                    Label[i] =  1\n",
    "\n",
    "    return delta_time, delta_radius, E_pro, E_del, Label           \n",
    "                    "
   ]
  }
 ],
 "metadata": {
  "kernelspec": {
   "display_name": "Python 3 (ipykernel)",
   "language": "python",
   "name": "python3"
  },
  "language_info": {
   "codemirror_mode": {
    "name": "ipython",
    "version": 3
   },
   "file_extension": ".py",
   "mimetype": "text/x-python",
   "name": "python",
   "nbconvert_exporter": "python",
   "pygments_lexer": "ipython3",
   "version": "3.9.16"
  }
 },
 "nbformat": 4,
 "nbformat_minor": 2
}
