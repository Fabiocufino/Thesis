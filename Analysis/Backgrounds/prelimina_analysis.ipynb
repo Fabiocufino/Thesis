{
 "cells": [
  {
   "cell_type": "code",
   "execution_count": 18,
   "metadata": {},
   "outputs": [],
   "source": [
    "import uproot as up\n",
    "import numpy as np\n",
    "import matplotlib.pyplot as plt\n",
    "\n",
    "plt.style.use('seaborn-v0_8')\n",
    "plt.rcParams[\"patch.force_edgecolor\"] = True\n"
   ]
  },
  {
   "cell_type": "code",
   "execution_count": 19,
   "metadata": {},
   "outputs": [
    {
     "data": {
      "text/html": [
       "<div>\n",
       "<style scoped>\n",
       "    .dataframe tbody tr th:only-of-type {\n",
       "        vertical-align: middle;\n",
       "    }\n",
       "\n",
       "    .dataframe tbody tr th {\n",
       "        vertical-align: top;\n",
       "    }\n",
       "\n",
       "    .dataframe thead th {\n",
       "        text-align: right;\n",
       "    }\n",
       "</style>\n",
       "<table border=\"1\" class=\"dataframe\">\n",
       "  <thead>\n",
       "    <tr style=\"text-align: right;\">\n",
       "      <th></th>\n",
       "      <th>recx</th>\n",
       "      <th>recy</th>\n",
       "      <th>recz</th>\n",
       "      <th>m_QEn</th>\n",
       "      <th>m_triggerT</th>\n",
       "    </tr>\n",
       "  </thead>\n",
       "  <tbody>\n",
       "    <tr>\n",
       "      <th>count</th>\n",
       "      <td>8.841188e+06</td>\n",
       "      <td>8.841188e+06</td>\n",
       "      <td>8.841188e+06</td>\n",
       "      <td>8.841188e+06</td>\n",
       "      <td>8.841188e+06</td>\n",
       "    </tr>\n",
       "    <tr>\n",
       "      <th>mean</th>\n",
       "      <td>2.434294e+01</td>\n",
       "      <td>6.811410e+01</td>\n",
       "      <td>-1.094809e+02</td>\n",
       "      <td>8.233230e-01</td>\n",
       "      <td>4.318994e+13</td>\n",
       "    </tr>\n",
       "    <tr>\n",
       "      <th>std</th>\n",
       "      <td>9.019135e+03</td>\n",
       "      <td>9.051915e+03</td>\n",
       "      <td>9.006903e+03</td>\n",
       "      <td>2.083230e+00</td>\n",
       "      <td>2.494161e+13</td>\n",
       "    </tr>\n",
       "    <tr>\n",
       "      <th>min</th>\n",
       "      <td>-1.739879e+04</td>\n",
       "      <td>-1.739895e+04</td>\n",
       "      <td>-1.739896e+04</td>\n",
       "      <td>0.000000e+00</td>\n",
       "      <td>1.077486e+07</td>\n",
       "    </tr>\n",
       "    <tr>\n",
       "      <th>25%</th>\n",
       "      <td>-7.276964e+03</td>\n",
       "      <td>-7.343032e+03</td>\n",
       "      <td>-7.177406e+03</td>\n",
       "      <td>2.161142e-01</td>\n",
       "      <td>2.159915e+13</td>\n",
       "    </tr>\n",
       "    <tr>\n",
       "      <th>50%</th>\n",
       "      <td>2.898000e+01</td>\n",
       "      <td>1.218061e+02</td>\n",
       "      <td>-1.393394e+02</td>\n",
       "      <td>5.668897e-01</td>\n",
       "      <td>4.317607e+13</td>\n",
       "    </tr>\n",
       "    <tr>\n",
       "      <th>75%</th>\n",
       "      <td>7.353976e+03</td>\n",
       "      <td>7.508770e+03</td>\n",
       "      <td>6.873655e+03</td>\n",
       "      <td>1.163155e+00</td>\n",
       "      <td>6.479309e+13</td>\n",
       "    </tr>\n",
       "    <tr>\n",
       "      <th>max</th>\n",
       "      <td>1.739894e+04</td>\n",
       "      <td>1.739899e+04</td>\n",
       "      <td>1.739900e+04</td>\n",
       "      <td>3.913881e+02</td>\n",
       "      <td>8.639995e+13</td>\n",
       "    </tr>\n",
       "  </tbody>\n",
       "</table>\n",
       "</div>"
      ],
      "text/plain": [
       "               recx          recy          recz         m_QEn    m_triggerT\n",
       "count  8.841188e+06  8.841188e+06  8.841188e+06  8.841188e+06  8.841188e+06\n",
       "mean   2.434294e+01  6.811410e+01 -1.094809e+02  8.233230e-01  4.318994e+13\n",
       "std    9.019135e+03  9.051915e+03  9.006903e+03  2.083230e+00  2.494161e+13\n",
       "min   -1.739879e+04 -1.739895e+04 -1.739896e+04  0.000000e+00  1.077486e+07\n",
       "25%   -7.276964e+03 -7.343032e+03 -7.177406e+03  2.161142e-01  2.159915e+13\n",
       "50%    2.898000e+01  1.218061e+02 -1.393394e+02  5.668897e-01  4.317607e+13\n",
       "75%    7.353976e+03  7.508770e+03  6.873655e+03  1.163155e+00  6.479309e+13\n",
       "max    1.739894e+04  1.739899e+04  1.739900e+04  3.913881e+02  8.639995e+13"
      ]
     },
     "execution_count": 19,
     "metadata": {},
     "output_type": "execute_result"
    }
   ],
   "source": [
    "file = up.open(\"radioactivity_userfile_1days.root\")\n",
    "#file = up.open(\"radioactivity_userfile_7days.root\")\n",
    "dataset = file['TRec'].arrays(library = 'pd')\n",
    "dataset.describe()"
   ]
  },
  {
   "cell_type": "code",
   "execution_count": 20,
   "metadata": {},
   "outputs": [
    {
     "data": {
      "text/html": [
       "<div>\n",
       "<style scoped>\n",
       "    .dataframe tbody tr th:only-of-type {\n",
       "        vertical-align: middle;\n",
       "    }\n",
       "\n",
       "    .dataframe tbody tr th {\n",
       "        vertical-align: top;\n",
       "    }\n",
       "\n",
       "    .dataframe thead th {\n",
       "        text-align: right;\n",
       "    }\n",
       "</style>\n",
       "<table border=\"1\" class=\"dataframe\">\n",
       "  <thead>\n",
       "    <tr style=\"text-align: right;\">\n",
       "      <th></th>\n",
       "      <th>recx</th>\n",
       "      <th>recy</th>\n",
       "      <th>recz</th>\n",
       "      <th>m_QEn</th>\n",
       "      <th>m_triggerT</th>\n",
       "    </tr>\n",
       "  </thead>\n",
       "  <tbody>\n",
       "    <tr>\n",
       "      <th>0</th>\n",
       "      <td>665.728638</td>\n",
       "      <td>8067.044922</td>\n",
       "      <td>-10366.445312</td>\n",
       "      <td>0.159292</td>\n",
       "      <td>1.077486e+07</td>\n",
       "    </tr>\n",
       "    <tr>\n",
       "      <th>1</th>\n",
       "      <td>-4802.014160</td>\n",
       "      <td>16538.570312</td>\n",
       "      <td>2478.220947</td>\n",
       "      <td>1.366482</td>\n",
       "      <td>1.140845e+07</td>\n",
       "    </tr>\n",
       "    <tr>\n",
       "      <th>2</th>\n",
       "      <td>-1717.782715</td>\n",
       "      <td>-13466.814453</td>\n",
       "      <td>-10728.556641</td>\n",
       "      <td>0.424301</td>\n",
       "      <td>1.365597e+07</td>\n",
       "    </tr>\n",
       "    <tr>\n",
       "      <th>3</th>\n",
       "      <td>3043.590088</td>\n",
       "      <td>-897.834412</td>\n",
       "      <td>12953.631836</td>\n",
       "      <td>0.458458</td>\n",
       "      <td>2.283254e+07</td>\n",
       "    </tr>\n",
       "    <tr>\n",
       "      <th>4</th>\n",
       "      <td>-5139.966309</td>\n",
       "      <td>-1222.675293</td>\n",
       "      <td>16577.423828</td>\n",
       "      <td>2.496444</td>\n",
       "      <td>4.792183e+07</td>\n",
       "    </tr>\n",
       "    <tr>\n",
       "      <th>...</th>\n",
       "      <td>...</td>\n",
       "      <td>...</td>\n",
       "      <td>...</td>\n",
       "      <td>...</td>\n",
       "      <td>...</td>\n",
       "    </tr>\n",
       "    <tr>\n",
       "      <th>8841183</th>\n",
       "      <td>426.579407</td>\n",
       "      <td>10713.729492</td>\n",
       "      <td>-13702.526367</td>\n",
       "      <td>2.526450</td>\n",
       "      <td>8.639991e+13</td>\n",
       "    </tr>\n",
       "    <tr>\n",
       "      <th>8841184</th>\n",
       "      <td>-3011.874512</td>\n",
       "      <td>-8722.999023</td>\n",
       "      <td>3570.316162</td>\n",
       "      <td>0.376598</td>\n",
       "      <td>8.639993e+13</td>\n",
       "    </tr>\n",
       "    <tr>\n",
       "      <th>8841185</th>\n",
       "      <td>-9594.561523</td>\n",
       "      <td>14511.460938</td>\n",
       "      <td>-295.128479</td>\n",
       "      <td>0.438386</td>\n",
       "      <td>8.639993e+13</td>\n",
       "    </tr>\n",
       "    <tr>\n",
       "      <th>8841186</th>\n",
       "      <td>-2813.622559</td>\n",
       "      <td>5796.915039</td>\n",
       "      <td>-6671.168457</td>\n",
       "      <td>0.487020</td>\n",
       "      <td>8.639994e+13</td>\n",
       "    </tr>\n",
       "    <tr>\n",
       "      <th>8841187</th>\n",
       "      <td>56.640095</td>\n",
       "      <td>-290.163574</td>\n",
       "      <td>-6539.054688</td>\n",
       "      <td>0.927343</td>\n",
       "      <td>8.639995e+13</td>\n",
       "    </tr>\n",
       "  </tbody>\n",
       "</table>\n",
       "<p>8841188 rows × 5 columns</p>\n",
       "</div>"
      ],
      "text/plain": [
       "                recx          recy          recz     m_QEn    m_triggerT\n",
       "0         665.728638   8067.044922 -10366.445312  0.159292  1.077486e+07\n",
       "1       -4802.014160  16538.570312   2478.220947  1.366482  1.140845e+07\n",
       "2       -1717.782715 -13466.814453 -10728.556641  0.424301  1.365597e+07\n",
       "3        3043.590088   -897.834412  12953.631836  0.458458  2.283254e+07\n",
       "4       -5139.966309  -1222.675293  16577.423828  2.496444  4.792183e+07\n",
       "...              ...           ...           ...       ...           ...\n",
       "8841183   426.579407  10713.729492 -13702.526367  2.526450  8.639991e+13\n",
       "8841184 -3011.874512  -8722.999023   3570.316162  0.376598  8.639993e+13\n",
       "8841185 -9594.561523  14511.460938   -295.128479  0.438386  8.639993e+13\n",
       "8841186 -2813.622559   5796.915039  -6671.168457  0.487020  8.639994e+13\n",
       "8841187    56.640095   -290.163574  -6539.054688  0.927343  8.639995e+13\n",
       "\n",
       "[8841188 rows x 5 columns]"
      ]
     },
     "execution_count": 20,
     "metadata": {},
     "output_type": "execute_result"
    }
   ],
   "source": [
    "dataset"
   ]
  },
  {
   "cell_type": "code",
   "execution_count": 21,
   "metadata": {},
   "outputs": [],
   "source": [
    "xs_reco = file['TRec']['recx'].array(library = 'np')\n",
    "ys_reco = file['TRec']['recy'].array(library = 'np')\n",
    "zs_reco = file['TRec']['recz'].array(library = 'np')\n",
    "es_reco = file['TRec']['m_QEn'].array(library = 'np')\n",
    "\n",
    "rs_reco = np.sqrt(xs_reco**2 + ys_reco**2 + zs_reco**2)"
   ]
  },
  {
   "cell_type": "code",
   "execution_count": 22,
   "metadata": {},
   "outputs": [
    {
     "data": {
      "text/plain": [
       "Text(0, 0.5, 'Number of events')"
      ]
     },
     "execution_count": 22,
     "metadata": {},
     "output_type": "execute_result"
    },
    {
     "data": {
      "image/png": "[encoded data removed]",
      "text/plain": [
       "<Figure size 800x600 with 1 Axes>"
      ]
     },
     "metadata": {},
     "output_type": "display_data"
    }
   ],
   "source": [
    "fig, ax = plt.subplots(figsize = (8,6), )\n",
    "ax.hist(rs_reco)\n",
    "\n",
    "ax.set_xlabel('Radius [mm]')\n",
    "ax.set_ylabel('Number of events')"
   ]
  },
  {
   "cell_type": "code",
   "execution_count": 23,
   "metadata": {},
   "outputs": [
    {
     "data": {
      "text/plain": [
       "Text(0, 0.5, 'Number of events')"
      ]
     },
     "execution_count": 23,
     "metadata": {},
     "output_type": "execute_result"
    },
    {
     "data": {
      "image/png": "[encoded data removed]",
      "text/plain": [
       "<Figure size 1200x600 with 1 Axes>"
      ]
     },
     "metadata": {},
     "output_type": "display_data"
    }
   ],
   "source": [
    "fig, ax = plt.subplots(figsize = (12,6))\n",
    "ax.hist(es_reco, bins = np.linspace(0, 4, 100))\n",
    "\n",
    "ax.set_xlabel('Quenched energy [MeV]')\n",
    "ax.set_ylabel('Number of events')"
   ]
  },
  {
   "cell_type": "code",
   "execution_count": null,
   "metadata": {},
   "outputs": [],
   "source": []
  }
 ],
 "metadata": {
  "kernelspec": {
   "display_name": "thesis",
   "language": "python",
   "name": "python3"
  },
  "language_info": {
   "codemirror_mode": {
    "name": "ipython",
    "version": 3
   },
   "file_extension": ".py",
   "mimetype": "text/x-python",
   "name": "python",
   "nbconvert_exporter": "python",
   "pygments_lexer": "ipython3",
   "version": "3.11.0"
  },
  "orig_nbformat": 4
 },
 "nbformat": 4,
 "nbformat_minor": 2
}
